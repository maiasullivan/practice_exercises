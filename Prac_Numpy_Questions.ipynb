{
 "cells": [
  {
   "cell_type": "markdown",
   "metadata": {},
   "source": [
    "# NumPy Exercises"
   ]
  },
  {
   "cell_type": "markdown",
   "metadata": {},
   "source": [
    "Reference for some of these exercises is [here](https://www.w3resource.com/python-exercises/)."
   ]
  },
  {
   "cell_type": "markdown",
   "metadata": {},
   "source": [
    "## Exercise 1\n",
    "\n",
    "Write a NumPy program to create a random array with 100 real-valued elements between 1 & 5 and compute the following for this array rounded to 2 decimal places:\n",
    "- average (that is, the sample mean)\n",
    "- population variance and population standard deviation (default option in NumPy)\n",
    "- sample variance and sample standard deviation\n",
    "\n",
    "**Hint:** For sample variance and sample standard deviation, use the `ddof=1` parameter value."
   ]
  },
  {
   "cell_type": "markdown",
   "metadata": {},
   "source": [
    "**Explanations**\n",
    "\n",
    "Population variance\n",
    "\n",
    "$$\\text{Population variance} = \\frac{\\sum_{i=1}^{N}(X_i - \\bar{X})^{2}}{N}$$\n",
    "\n",
    "Sample variance\n",
    "\n",
    "$$\\text{Sample variance} = \\frac{\\sum_{i=1}^{N}(X_i - \\bar{X})^{2}}{N-1}$$"
   ]
  },
  {
   "cell_type": "code",
   "execution_count": 26,
   "metadata": {},
   "outputs": [
    {
     "name": "stdout",
     "output_type": "stream",
     "text": [
      "Average:  3.19\n",
      "Population variance:  1.3\n",
      "Population standard deviation:  1.14\n",
      "(Python-calculated sample variance):  1.31\n",
      "Sample variance:  1.31\n",
      "Sample standard deviation:  1.15\n"
     ]
    }
   ],
   "source": [
    "import numpy as np\n",
    "\n",
    "np.random.seed(999)\n",
    "arr = (np.random.rand(100) * 4) + 1\n",
    "# we have our array\n",
    "\n",
    "print('Average: ', arr.mean().round(2))\n",
    "print('Population variance: ', (np.var(arr)).round(2))\n",
    "print('Population standard deviation: ', (np.std(arr)).round(2))\n",
    "\n",
    "\n",
    "def calc_variance(arr):\n",
    "    mean_arr = ((np.sum(arr)) / len(arr)).round(2)\n",
    "    numerator = 0\n",
    "    diff_from_mean = []\n",
    "    for i in range(0, len(arr),1):\n",
    "        diff_from_mean.append(arr[i] - mean_arr)\n",
    "        numerator = numerator + (diff_from_mean[i]**2)\n",
    "    variance_x = numerator / (len(arr) - 1)\n",
    "    return variance_x\n",
    "\n",
    "print('(Python-calculated sample variance): ', calc_variance(arr).round(2))\n",
    "print('Sample variance: ', np.var(arr, ddof=1).round(2))\n",
    "print('Sample standard deviation: ', np.std(arr, ddof=1).round(2))\n",
    "\n",
    "\n"
   ]
  },
  {
   "cell_type": "markdown",
   "metadata": {},
   "source": [
    "## Execise 2\n",
    "\n",
    "Write a NumPy program to get the values and indices of the elements that are bigger than 10 in a given array. "
   ]
  },
  {
   "cell_type": "code",
   "execution_count": 41,
   "metadata": {},
   "outputs": [
    {
     "name": "stdout",
     "output_type": "stream",
     "text": [
      "Original array:  [ 5  6  7  8  9 10 11 12 13 14]\n",
      "Values greater than 10:  [11 12 13 14]\n",
      "Indices of those values:  [6 7 8 9]\n"
     ]
    }
   ],
   "source": [
    "arr2 = 5 + np.arange(10)\n",
    "\n",
    "print('Original array: ', arr2)\n",
    "print('Values greater than 10: ', arr2[arr2 > 10])\n",
    "print('Indices of those values: ', np.nonzero (arr2 > 10)[0])"
   ]
  },
  {
   "cell_type": "markdown",
   "metadata": {},
   "source": [
    "## Exercise 3\n",
    "\n",
    "Write a NumPy program to find the set difference of two arrays. The set difference will return the sorted, unique values in the first array `array1` that are not in the second one `array2`. **Hint:** This is a one-liner."
   ]
  },
  {
   "cell_type": "code",
   "execution_count": 45,
   "metadata": {},
   "outputs": [
    {
     "name": "stdout",
     "output_type": "stream",
     "text": [
      "Array A:  [2, 4, 6, 8, 10, 12]\n",
      "Array B:  [3, 6, 9, 12]\n",
      "Unique values in Array A but not Array B:  [ 2  4  8 10]\n"
     ]
    }
   ],
   "source": [
    "arr3a = ([2, 4, 6, 8, 10, 12])\n",
    "arr3b = ([3, 6, 9, 12])\n",
    "\n",
    "print('Array A: ', arr3a)\n",
    "print('Array B: ', arr3b)\n",
    "print('Unique values in Array A but not Array B: ', np.setdiff1d(arr3a, arr3b))"
   ]
  },
  {
   "cell_type": "markdown",
   "metadata": {},
   "source": [
    "## Exercise 4\n",
    "\n",
    "Write a NumPy program to calculate element-wise round, floor, ceiling, and truncated form of an input array."
   ]
  },
  {
   "cell_type": "code",
   "execution_count": 47,
   "metadata": {},
   "outputs": [
    {
     "name": "stdout",
     "output_type": "stream",
     "text": [
      "Original array:  [2.37 2.72 3.69 4.12 4.93]\n",
      "Rounded element-wise:  [2 3 4 4 5]\n",
      "Rounded to floor:  [2 2 3 4 4]\n",
      "Rounded to ceiling:  [3 3 4 5 5]\n",
      "Truncated integers:  [2 2 3 4 4]\n"
     ]
    }
   ],
   "source": [
    "arr4 = np.array([2.37, 2.72, 3.69, 4.12, 4.93])\n",
    "\n",
    "print('Original array: ', arr)\n",
    "print('Rounded element-wise: ', np.round(arr).astype(int))\n",
    "print('Rounded to floor: ', np.floor(arr).astype(int))\n",
    "print('Rounded to ceiling: ', np.ceil(arr).astype(int))\n",
    "print('Truncated integers: ', np.trunc(arr).astype(int))"
   ]
  },
  {
   "cell_type": "markdown",
   "metadata": {},
   "source": [
    "***\n",
    "www.featureranking.com"
   ]
  }
 ],
 "metadata": {
  "hide_input": false,
  "kernelspec": {
   "display_name": "Python 3 (ipykernel)",
   "language": "python",
   "name": "python3"
  },
  "language_info": {
   "codemirror_mode": {
    "name": "ipython",
    "version": 3
   },
   "file_extension": ".py",
   "mimetype": "text/x-python",
   "name": "python",
   "nbconvert_exporter": "python",
   "pygments_lexer": "ipython3",
   "version": "3.11.4"
  }
 },
 "nbformat": 4,
 "nbformat_minor": 2
}
