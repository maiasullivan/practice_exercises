{
 "cells": [
  {
   "cell_type": "markdown",
   "metadata": {},
   "source": [
    "# Python Programming Exercises"
   ]
  },
  {
   "cell_type": "markdown",
   "metadata": {},
   "source": [
    "Reference for some of these exercises is [here](https://www.w3resource.com/python-exercises/)."
   ]
  },
  {
   "cell_type": "markdown",
   "metadata": {
    "heading_collapsed": true
   },
   "source": [
    "## Exercise 1\n",
    "\n",
    "Write a Python function to check whether a number is divisible by another number. Your function should accept two integers values and return a boolean. "
   ]
  },
  {
   "cell_type": "markdown",
   "metadata": {
    "hidden": true
   },
   "source": [
    "**Examples**\n",
    "\n",
    "* $23/5 = 4 \\frac{3}{5} \\implies 23$ is not divisible by $5$ as the remainder is not $0 \\implies $ `False`\n",
    "* $20/5 = 4 \\frac{0}{5} = 4 \\implies 20$ is divisible by $5$ as the remainder is $0 \\implies $ `True`"
   ]
  },
  {
   "cell_type": "code",
   "execution_count": 14,
   "metadata": {
    "code_folding": [],
    "hidden": true
   },
   "outputs": [
    {
     "name": "stdout",
     "output_type": "stream",
     "text": [
      "True\n",
      "False\n"
     ]
    }
   ],
   "source": [
    "def is_divisible(num1, num2):\n",
    "    return True if num1 % num2 == 0 else False\n",
    "\n",
    "print(is_divisible(10, 2))\n",
    "print(is_divisible(13, 3))\n"
   ]
  },
  {
   "cell_type": "markdown",
   "metadata": {
    "heading_collapsed": true
   },
   "source": [
    "## Exercise 2 \n",
    "\n",
    "Fibonacci numbers start with 0, 1 and continues such that the next number is the sum of the previous two numbers. Write a Python function that gives a list of the first $N$ Fibonacci numbers. \n",
    "\n",
    "**Bonus:** Make the first two numbers optional with default values of 0 and 1. "
   ]
  },
  {
   "cell_type": "markdown",
   "metadata": {
    "hidden": true
   },
   "source": [
    "**Some illustrations**\n",
    "\n",
    "How does Fibonacci sequence look like?\n",
    "\n",
    "$$0, 1, 1, 2, 3, 5, 8, 13...$$\n",
    "\n",
    "In terms of iteration $i$, let $x_{i}$ be the $i^{th}$ number in a Fibonacci sequence, we can break down\n",
    "\n",
    "\n",
    "* $i = 0$, $a = x_0 = 0, b = x_1 = 1$\n",
    "* $i = 1$, $x_2 = x_1 + x_0 = 1 + 0 = 1$\n",
    "* $i = 2$, $x_3 = x_2 + x_1 = 1 + 1 = 2$\n",
    "* $i = 3$, $x_4 = x_3 + x_2 = 2 + 1 = 3$\n",
    "* $i = 4$, $x_5 = x_4 + x_3 = 5 + 3 = 8$\n",
    "\n",
    "* $\\vdots$\n",
    "\n",
    "In general, $x_{i+1} = x_{i} + x_{i-1}$.\n",
    "\n",
    "* $x_{i}' \\rightarrow x_{i+1} = x_{i} + x_{i-1}$ after one iteration\n",
    "* $x_{i-1}' \\rightarrow x_{i}$ after one iteration"
   ]
  },
  {
   "cell_type": "code",
   "execution_count": 15,
   "metadata": {
    "hidden": true
   },
   "outputs": [
    {
     "name": "stdout",
     "output_type": "stream",
     "text": [
      "[0, 1, 1, 2, 3, 5, 8, 13, 21, 34]\n"
     ]
    }
   ],
   "source": [
    "def fibonacci_list(n, num0 = 0, num1 = 1):\n",
    "    list = []\n",
    "    list.append(num0)\n",
    "    while (len(list) < n):\n",
    "        num0, num1 = num1, num0+num1\n",
    "        list.append(num0)\n",
    "    return list\n",
    "\n",
    "print(fibonacci_list(10))"
   ]
  },
  {
   "cell_type": "markdown",
   "metadata": {
    "heading_collapsed": true
   },
   "source": [
    "## Exercise 3\n",
    "\n",
    "Write a Python program to count the number of even and odd numbers in a given list of numbers."
   ]
  },
  {
   "cell_type": "code",
   "execution_count": 24,
   "metadata": {
    "hidden": true
   },
   "outputs": [
    {
     "name": "stdout",
     "output_type": "stream",
     "text": [
      "Even numbers: 3 \n",
      "Odd numbers: 4\n"
     ]
    }
   ],
   "source": [
    "def count_even(usrlist):\n",
    "    count_e = 0\n",
    "    count_o = 0\n",
    "    for i in range(len(usrlist)):\n",
    "        if usrlist[i] % 2 == 0:\n",
    "            count_e += 1\n",
    "        else:\n",
    "            count_o += 1\n",
    "    print(\"Even numbers:\", count_e, \"\\nOdd numbers:\", count_o)\n",
    "    return\n",
    "\n",
    "count_even([1, 2, 3, 5, 6, 8, 9])"
   ]
  },
  {
   "cell_type": "markdown",
   "metadata": {
    "heading_collapsed": true
   },
   "source": [
    "## Exercise 4\n",
    "\n",
    "Write a Python function that accepts a string and calculates the number of upper case and lower case letters using a dictionary with two keys."
   ]
  },
  {
   "cell_type": "markdown",
   "metadata": {
    "hidden": true
   },
   "source": [
    "**Tricks**\n",
    "\n",
    "* `.isupper()` and * `.islower()`\n"
   ]
  },
  {
   "cell_type": "markdown",
   "metadata": {
    "hidden": true
   },
   "source": [
    "**Remarks**\n",
    "\n",
    "* Special characters are not alphabets. So, `'!'.isupper()` or `'!'.isupper()` will return `False`\n",
    "* Numeric characters are not alphabets. So, `'2'.isupper()` or `'2'.isupper()` will return `False`"
   ]
  },
  {
   "cell_type": "code",
   "execution_count": 2,
   "metadata": {
    "hidden": true
   },
   "outputs": [
    {
     "name": "stdout",
     "output_type": "stream",
     "text": [
      "{'num_up': 2, 'num_low': 4}\n"
     ]
    }
   ],
   "source": [
    "def num_cases(string):\n",
    "    int_up, int_low = 0, 0\n",
    "    for i in range(len(string)):\n",
    "        if string[i].isupper():\n",
    "            int_up += 1\n",
    "        elif string[i].islower():\n",
    "            int_low += 1\n",
    "\n",
    "    dict = { \"num_up\" : int_up,\n",
    "            \"num_low\" : int_low }\n",
    "    return dict\n",
    "\n",
    "print(num_cases(\"StRing\"))"
   ]
  },
  {
   "cell_type": "markdown",
   "metadata": {
    "heading_collapsed": true
   },
   "source": [
    "## Exercise 5\n",
    "\n",
    "Write a Python program to store duplicate elements in a given list."
   ]
  },
  {
   "cell_type": "code",
   "execution_count": 49,
   "metadata": {
    "hidden": true
   },
   "outputs": [
    {
     "name": "stdout",
     "output_type": "stream",
     "text": [
      "[2, 4]\n"
     ]
    }
   ],
   "source": [
    "def dup_elements(p_list):\n",
    "    dup_list = []\n",
    "    for i in p_list:\n",
    "        if p_list.count(p_list[i]) > 1:\n",
    "            if dup_list.count(p_list[i]) == 0:\n",
    "                dup_list.append(p_list[i])\n",
    "    return dup_list\n",
    "\n",
    "print(dup_elements([1, 2, 4, 2, 6, 5, 4]))"
   ]
  },
  {
   "cell_type": "markdown",
   "metadata": {
    "heading_collapsed": true
   },
   "source": [
    "## Exercise 6 \n",
    "\n",
    "Write a Python function that takes two lists and returns `True` if they have at least one common element."
   ]
  },
  {
   "cell_type": "code",
   "execution_count": 54,
   "metadata": {
    "hidden": true
   },
   "outputs": [
    {
     "name": "stdout",
     "output_type": "stream",
     "text": [
      "True\n"
     ]
    }
   ],
   "source": [
    "def com_elements(f_list, s_list):\n",
    "    result = False\n",
    "    for i in f_list:\n",
    "        for j in s_list:\n",
    "            if i == j:\n",
    "                result = True\n",
    "    return result\n",
    "\n",
    "print(com_elements([1, 2, 4, 2, 6, 5, 4], [3, 4, 7]))"
   ]
  },
  {
   "cell_type": "markdown",
   "metadata": {
    "hidden": true
   },
   "source": [
    "***\n",
    "www.featureranking.com"
   ]
  }
 ],
 "metadata": {
  "hide_input": false,
  "kernelspec": {
   "display_name": "Python 3",
   "language": "python",
   "name": "python3"
  },
  "language_info": {
   "codemirror_mode": {
    "name": "ipython",
    "version": 3
   },
   "file_extension": ".py",
   "mimetype": "text/x-python",
   "name": "python",
   "nbconvert_exporter": "python",
   "pygments_lexer": "ipython3",
   "version": "3.11.4"
  },
  "vscode": {
   "interpreter": {
    "hash": "aee8b7b246df8f9039afb4144a1f6fd8d2ca17a180786b69acc140d282b71a49"
   }
  }
 },
 "nbformat": 4,
 "nbformat_minor": 2
}
