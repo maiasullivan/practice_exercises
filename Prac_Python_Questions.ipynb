{
 "cells": [
  {
   "cell_type": "markdown",
   "metadata": {},
   "source": [
    "# Python Programming Exercises"
   ]
  },
  {
   "cell_type": "markdown",
   "metadata": {},
   "source": [
    "Reference for some of these exercises is [here](https://www.w3resource.com/python-exercises/)."
   ]
  },
  {
   "cell_type": "markdown",
   "metadata": {
    "heading_collapsed": true
   },
   "source": [
    "## Exercise 1\n",
    "\n",
    "Write a Python function to check whether a number is divisible by another number. Your function should accept two integers values and return a boolean. "
   ]
  },
  {
   "cell_type": "markdown",
   "metadata": {
    "hidden": true
   },
   "source": [
    "**Examples**\n",
    "\n",
    "* $23/5 = 4 \\frac{3}{5} \\implies 23$ is not divisible by $5$ as the remainder is not $0 \\implies $ `False`\n",
    "* $20/5 = 4 \\frac{0}{5} = 4 \\implies 20$ is divisible by $5$ as the remainder is $0 \\implies $ `True`"
   ]
  },
  {
   "cell_type": "code",
   "execution_count": 12,
   "metadata": {
    "code_folding": [],
    "hidden": true
   },
   "outputs": [
    {
     "name": "stdout",
     "output_type": "stream",
     "text": [
      "True\n",
      "False\n"
     ]
    }
   ],
   "source": [
    "def is_divisible(num1, num2):\n",
    "    return True if num1 % num2 == 0 else False\n",
    "\n",
    "print(is_divisible(10, 2))\n",
    "print(is_divisible(13, 3))\n"
   ]
  },
  {
   "cell_type": "markdown",
   "metadata": {
    "heading_collapsed": true
   },
   "source": [
    "## Exercise 2 \n",
    "\n",
    "Fibonacci numbers start with 0, 1 and continues such that the next number is the sum of the previous two numbers. Write a Python function that gives a list of the first $N$ Fibonacci numbers. \n",
    "\n",
    "**Bonus:** Make the first two numbers optional with default values of 0 and 1. "
   ]
  },
  {
   "cell_type": "markdown",
   "metadata": {
    "hidden": true
   },
   "source": [
    "**Some illustrations**\n",
    "\n",
    "How does Fibonacci sequence look like?\n",
    "\n",
    "$$0, 1, 1, 2, 3, 5, 8, 13...$$\n",
    "\n",
    "In terms of iteration $i$, let $x_{i}$ be the $i^{th}$ number in a Fibonacci sequence, we can break down\n",
    "\n",
    "\n",
    "* $i = 0$, $a = x_0 = 0, b = x_1 = 1$\n",
    "* $i = 1$, $x_2 = x_1 + x_0 = 1 + 0 = 1$\n",
    "* $i = 2$, $x_3 = x_2 + x_1 = 1 + 1 = 2$\n",
    "* $i = 3$, $x_4 = x_3 + x_2 = 2 + 1 = 3$\n",
    "* $i = 4$, $x_5 = x_4 + x_3 = 5 + 3 = 8$\n",
    "\n",
    "* $\\vdots$\n",
    "\n",
    "In general, $x_{i+1} = x_{i} + x_{i-1}$.\n",
    "\n",
    "* $x_{i}' \\rightarrow x_{i+1} = x_{i} + x_{i-1}$ after one iteration\n",
    "* $x_{i-1}' \\rightarrow x_{i}$ after one iteration"
   ]
  },
  {
   "cell_type": "code",
   "execution_count": null,
   "metadata": {
    "hidden": true
   },
   "outputs": [],
   "source": []
  },
  {
   "cell_type": "markdown",
   "metadata": {
    "heading_collapsed": true
   },
   "source": [
    "## Exercise 3\n",
    "\n",
    "Write a Python program to count the number of even and odd numbers in a given list of numbers."
   ]
  },
  {
   "cell_type": "code",
   "execution_count": null,
   "metadata": {
    "hidden": true
   },
   "outputs": [],
   "source": []
  },
  {
   "cell_type": "markdown",
   "metadata": {
    "heading_collapsed": true
   },
   "source": [
    "## Exercise 4\n",
    "\n",
    "Write a Python function that accepts a string and calculates the number of upper case and lower case letters using a dictionary with two keys."
   ]
  },
  {
   "cell_type": "markdown",
   "metadata": {
    "hidden": true
   },
   "source": [
    "**Tricks**\n",
    "\n",
    "* `.isupper()` and * `.islower()`\n"
   ]
  },
  {
   "cell_type": "markdown",
   "metadata": {
    "hidden": true
   },
   "source": [
    "**Remarks**\n",
    "\n",
    "* Special characters are not alphabets. So, `'!'.isupper()` or `'!'.isupper()` will return `False`\n",
    "* Numeric characters are not alphabets. So, `'2'.isupper()` or `'2'.isupper()` will return `False`"
   ]
  },
  {
   "cell_type": "code",
   "execution_count": null,
   "metadata": {
    "hidden": true
   },
   "outputs": [],
   "source": []
  },
  {
   "cell_type": "code",
   "execution_count": null,
   "metadata": {
    "hidden": true
   },
   "outputs": [],
   "source": []
  },
  {
   "cell_type": "markdown",
   "metadata": {
    "heading_collapsed": true
   },
   "source": [
    "## Exercise 5\n",
    "\n",
    "Write a Python program to store duplicate elements in a given list."
   ]
  },
  {
   "cell_type": "code",
   "execution_count": null,
   "metadata": {
    "hidden": true
   },
   "outputs": [],
   "source": []
  },
  {
   "cell_type": "markdown",
   "metadata": {
    "heading_collapsed": true
   },
   "source": [
    "## Exercise 6 \n",
    "\n",
    "Write a Python function that takes two lists and returns `True` if they have at least one common element."
   ]
  },
  {
   "cell_type": "code",
   "execution_count": null,
   "metadata": {
    "hidden": true
   },
   "outputs": [],
   "source": []
  },
  {
   "cell_type": "markdown",
   "metadata": {
    "hidden": true
   },
   "source": [
    "***\n",
    "www.featureranking.com"
   ]
  }
 ],
 "metadata": {
  "hide_input": false,
  "kernelspec": {
   "display_name": "Python 3",
   "language": "python",
   "name": "python3"
  },
  "language_info": {
   "codemirror_mode": {
    "name": "ipython",
    "version": 3
   },
   "file_extension": ".py",
   "mimetype": "text/x-python",
   "name": "python",
   "nbconvert_exporter": "python",
   "pygments_lexer": "ipython3",
   "version": "3.11.4"
  },
  "vscode": {
   "interpreter": {
    "hash": "aee8b7b246df8f9039afb4144a1f6fd8d2ca17a180786b69acc140d282b71a49"
   }
  }
 },
 "nbformat": 4,
 "nbformat_minor": 2
}
