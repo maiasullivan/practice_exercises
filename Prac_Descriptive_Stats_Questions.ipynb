{
 "cells": [
  {
   "cell_type": "markdown",
   "metadata": {},
   "source": [
    "# Descriptive Statistics Exercises"
   ]
  },
  {
   "cell_type": "markdown",
   "metadata": {},
   "source": [
    "## Important Notes\n",
    "\n",
    "**IMPORTANT NOTE 1:** Please remember to **run your code cells** so that you can see the output of your codes.\n",
    "\n",
    "**IMPORTANT NOTE 2:** By default, Jupyter Notebook will only display the output of the last command in a Code cell. Thus, if you have multiple commands in a Code cell and you need to print output of a Python command in the middle of the cell, you have two options: \n",
    "- Option 1: Break your Code cell into multiple Code cells and place only one command in each cell so that you can display output of each command.\n",
    "- Option 2: (**Preferred**) In a Code cell, put print() statements around each Python command whose output you would like to display."
   ]
  },
  {
   "cell_type": "markdown",
   "metadata": {},
   "source": [
    "## Tutorial Overview\n",
    "\n",
    "In this exercise, you will gain insight into public health by generating simple graphical and numerical summaries of a dataset collected by the U.S. Centers for Disease Control and Prevention (CDC).\n",
    "\n",
    "The Behavioral Risk Factor Surveillance System (BRFSS) is an annual telephone survey of 350,000 people in the United States. As its name implies, the BRFSS is designed to identify risk factors in the adult population and report emerging health trends. For example, respondents are asked about their diet and weekly physical activity, their HIV/AIDS status, possible tobacco use, and even their level of healthcare coverage.\n",
    "\n",
    "Data source: cdc.gov/brfss\n",
    "\n",
    "We will focus on a random sample of 60 people from the BRFSS survey conducted in 2000. While there are over 200 variables in this data set, we will work with a small subset. \n",
    "\n"
   ]
  },
  {
   "cell_type": "markdown",
   "metadata": {},
   "source": [
    "**Exercise 1:** Import the `numpy` and `pandas` modules in as `np` and `pd` respectively. Then place the `cdc_sample.csv` from our dataset GitHub repository into the same directory as this notebook and read in the data as `cdc`. Display the first 5 rows of the data. "
   ]
  },
  {
   "cell_type": "code",
   "execution_count": 3,
   "metadata": {},
   "outputs": [
    {
     "data": {
      "text/html": [
       "<div>\n",
       "<style scoped>\n",
       "    .dataframe tbody tr th:only-of-type {\n",
       "        vertical-align: middle;\n",
       "    }\n",
       "\n",
       "    .dataframe tbody tr th {\n",
       "        vertical-align: top;\n",
       "    }\n",
       "\n",
       "    .dataframe thead th {\n",
       "        text-align: right;\n",
       "    }\n",
       "</style>\n",
       "<table border=\"1\" class=\"dataframe\">\n",
       "  <thead>\n",
       "    <tr style=\"text-align: right;\">\n",
       "      <th></th>\n",
       "      <th>exerany</th>\n",
       "      <th>hlthplan</th>\n",
       "      <th>smoke100</th>\n",
       "      <th>height</th>\n",
       "      <th>weight</th>\n",
       "      <th>wtdesire</th>\n",
       "      <th>age</th>\n",
       "      <th>gender</th>\n",
       "      <th>genhlth</th>\n",
       "    </tr>\n",
       "  </thead>\n",
       "  <tbody>\n",
       "    <tr>\n",
       "      <th>0</th>\n",
       "      <td>1</td>\n",
       "      <td>1</td>\n",
       "      <td>1</td>\n",
       "      <td>75</td>\n",
       "      <td>265</td>\n",
       "      <td>225</td>\n",
       "      <td>45</td>\n",
       "      <td>m</td>\n",
       "      <td>very good</td>\n",
       "    </tr>\n",
       "    <tr>\n",
       "      <th>1</th>\n",
       "      <td>1</td>\n",
       "      <td>1</td>\n",
       "      <td>0</td>\n",
       "      <td>72</td>\n",
       "      <td>150</td>\n",
       "      <td>150</td>\n",
       "      <td>24</td>\n",
       "      <td>m</td>\n",
       "      <td>excellent</td>\n",
       "    </tr>\n",
       "    <tr>\n",
       "      <th>2</th>\n",
       "      <td>1</td>\n",
       "      <td>1</td>\n",
       "      <td>1</td>\n",
       "      <td>69</td>\n",
       "      <td>137</td>\n",
       "      <td>150</td>\n",
       "      <td>47</td>\n",
       "      <td>m</td>\n",
       "      <td>excellent</td>\n",
       "    </tr>\n",
       "    <tr>\n",
       "      <th>3</th>\n",
       "      <td>1</td>\n",
       "      <td>1</td>\n",
       "      <td>1</td>\n",
       "      <td>66</td>\n",
       "      <td>159</td>\n",
       "      <td>125</td>\n",
       "      <td>26</td>\n",
       "      <td>f</td>\n",
       "      <td>good</td>\n",
       "    </tr>\n",
       "    <tr>\n",
       "      <th>4</th>\n",
       "      <td>1</td>\n",
       "      <td>1</td>\n",
       "      <td>0</td>\n",
       "      <td>63</td>\n",
       "      <td>145</td>\n",
       "      <td>125</td>\n",
       "      <td>33</td>\n",
       "      <td>f</td>\n",
       "      <td>very good</td>\n",
       "    </tr>\n",
       "  </tbody>\n",
       "</table>\n",
       "</div>"
      ],
      "text/plain": [
       "   exerany  hlthplan  smoke100  height  weight  wtdesire  age gender  \\\n",
       "0        1         1         1      75     265       225   45      m   \n",
       "1        1         1         0      72     150       150   24      m   \n",
       "2        1         1         1      69     137       150   47      m   \n",
       "3        1         1         1      66     159       125   26      f   \n",
       "4        1         1         0      63     145       125   33      f   \n",
       "\n",
       "     genhlth  \n",
       "0  very good  \n",
       "1  excellent  \n",
       "2  excellent  \n",
       "3       good  \n",
       "4  very good  "
      ]
     },
     "execution_count": 3,
     "metadata": {},
     "output_type": "execute_result"
    }
   ],
   "source": [
    "import warnings\n",
    "warnings.filterwarnings(\"ignore\")\n",
    "\n",
    "import numpy as np\n",
    "import pandas as pd\n",
    "import io\n",
    "import requests\n",
    "\n",
    "pd.set_option(\"display.max_columns\", None)\n",
    "\n",
    "url_name = 'https://raw.githubusercontent.com/akmand/datasets/master/cdc_sample.csv'\n",
    "url_content = requests.get(url_name, verify=False).content\n",
    "cdc = pd.read_csv(io.StringIO(url_content.decode('utf-8')))\n",
    "\n",
    "cdc.head()"
   ]
  },
  {
   "cell_type": "markdown",
   "metadata": {},
   "source": [
    "**Exercise 2:** How many variables are there in this dataset? For each variable, identify its data type (e.g., categorical, numerical). If categorical, state the number of levels.\n",
    "\n",
    "**Hint:** Try using Pandas' `info()` method on your data frame. In the output of this method, `object` data type (\"dtype\") stands for a string type, which usually indicates a categorical variable. On the hand, some numerical variables can actually be categorical in nature (think about hlthplan, for instance). This can be verified when coupled with the `nunique()` function.\n",
    "\n"
   ]
  },
  {
   "cell_type": "code",
   "execution_count": 19,
   "metadata": {},
   "outputs": [
    {
     "name": "stdout",
     "output_type": "stream",
     "text": [
      "There are 9 variables\n",
      "\n",
      "Categorical variables: \n",
      "genhlth (ordinal, 5 levels), exerany (binary), hlthplan (binary), \n",
      "smoke100 (binary) and gender (binary)\n",
      "\n",
      "\n",
      "Numerical variables: \n",
      "height, weight, wtdesire and age\n",
      "\n"
     ]
    }
   ],
   "source": [
    "print('There are', cdc.shape[1], 'variables')\n",
    "\n",
    "print(\"\"\"\n",
    "Categorical variables: \n",
    "genhlth (ordinal, 5 levels), exerany (binary), hlthplan (binary), \n",
    "smoke100 (binary) and gender (binary)\n",
    "\"\"\")\n",
    "\n",
    "print(\"\"\"\n",
    "Numerical variables: \n",
    "height, weight, wtdesire and age\n",
    "\"\"\")"
   ]
  },
  {
   "cell_type": "markdown",
   "metadata": {},
   "source": [
    "**Exercise 3:** What are the levels in `genhlth`? and how many people fall under each level?\n",
    "\n",
    "**Hint:** you can use Pandas' `value_counts()` function."
   ]
  },
  {
   "cell_type": "code",
   "execution_count": 44,
   "metadata": {},
   "outputs": [
    {
     "name": "stdout",
     "output_type": "stream",
     "text": [
      "The levels of genhlth are ['very good' 'excellent' 'good' 'fair' 'poor']\n",
      "The number of people in each are [18 17 17  7  1] , respectively\n"
     ]
    }
   ],
   "source": [
    "print('The levels of genhlth are', cdc['genhlth'].unique())\n",
    "print('The number of people in each are', cdc[\"genhlth\"].value_counts().values, ', respectively')"
   ]
  },
  {
   "cell_type": "markdown",
   "metadata": {},
   "source": [
    "**Exercise 4:** Import `matplotlib.pyplot` as `plt` and create a scatterplot of `height` and `weight`, ensuring that the plot has an appropriate title and axis labels. What is the association between these two variables? "
   ]
  },
  {
   "cell_type": "code",
   "execution_count": 45,
   "metadata": {},
   "outputs": [
    {
     "ename": "ModuleNotFoundError",
     "evalue": "No module named 'matplotlib'",
     "output_type": "error",
     "traceback": [
      "\u001b[0;31m---------------------------------------------------------------------------\u001b[0m",
      "\u001b[0;31mModuleNotFoundError\u001b[0m                       Traceback (most recent call last)",
      "Cell \u001b[0;32mIn[45], line 1\u001b[0m\n\u001b[0;32m----> 1\u001b[0m \u001b[38;5;28;01mimport\u001b[39;00m \u001b[38;5;21;01mmatplotlib\u001b[39;00m\u001b[38;5;21;01m.\u001b[39;00m\u001b[38;5;21;01mpyplot\u001b[39;00m \u001b[38;5;28;01mas\u001b[39;00m \u001b[38;5;21;01mplt\u001b[39;00m\n\u001b[1;32m      2\u001b[0m get_ipython()\u001b[38;5;241m.\u001b[39mrun_line_magic(\u001b[38;5;124m'\u001b[39m\u001b[38;5;124mmatplotlib\u001b[39m\u001b[38;5;124m'\u001b[39m, \u001b[38;5;124m'\u001b[39m\u001b[38;5;124minline\u001b[39m\u001b[38;5;124m'\u001b[39m)\n\u001b[1;32m      3\u001b[0m get_ipython()\u001b[38;5;241m.\u001b[39mrun_line_magic(\u001b[38;5;124m'\u001b[39m\u001b[38;5;124mconfig\u001b[39m\u001b[38;5;124m'\u001b[39m, \u001b[38;5;124m\"\u001b[39m\u001b[38;5;124mInlineBackend.figure_format = \u001b[39m\u001b[38;5;124m'\u001b[39m\u001b[38;5;124mretina\u001b[39m\u001b[38;5;124m'\u001b[39m\u001b[38;5;124m\"\u001b[39m)\n",
      "\u001b[0;31mModuleNotFoundError\u001b[0m: No module named 'matplotlib'"
     ]
    }
   ],
   "source": [
    "import matplotlib.pyplot as plt\n",
    "%matplotlib inline \n",
    "%config InlineBackend.figure_format = 'retina'\n",
    "plt.style.use(\"ggplot\")\n",
    "\n",
    "# creating scatterplot\n",
    "plt.scatter(cdc['weight'], cdc['height'])\n",
    "plt.title('Scatterplot of Weight against Height')\n",
    "plt.xlabel('Weight')\n",
    "plt.ylabel('Height')\n",
    "plt.show()"
   ]
  },
  {
   "cell_type": "markdown",
   "metadata": {},
   "source": [
    "**Exercise 5:** Find the mean, sample standard deviation, and median of `weight`."
   ]
  },
  {
   "cell_type": "code",
   "execution_count": 59,
   "metadata": {},
   "outputs": [
    {
     "name": "stdout",
     "output_type": "stream",
     "text": [
      "Weight mean: 173.3\n",
      "Weight standard deviation: 49.035\n",
      "Weight median: 165.0\n"
     ]
    }
   ],
   "source": [
    "print('Weight mean:', round(cdc['weight'].mean(), 3))\n",
    "print('Weight standard deviation:', round(cdc['weight'].std(ddof=1), 3))\n",
    "print('Weight median:', cdc['weight'].median())"
   ]
  },
  {
   "cell_type": "markdown",
   "metadata": {},
   "source": [
    "**Exercise 6:** Find the mean, sample standard deviation, and median of `weight` for respondents who exercised in the past month. Is there any significant difference in the results when compared to the results of Exercise 5?\n",
    "\n",
    "**Hint:** `exerany` is the variable that is 1 if the respondent exercised in the past month and 0 otherwise."
   ]
  },
  {
   "cell_type": "code",
   "execution_count": 61,
   "metadata": {},
   "outputs": [
    {
     "name": "stdout",
     "output_type": "stream",
     "text": [
      "Weight mean (exercising individual): 169.733\n",
      "Weight standard deviation (exercising individual): 36.668\n",
      "Weight median (exercising individual): 170.0\n"
     ]
    }
   ],
   "source": [
    "print('Weight mean (exercising individual):', round(cdc[cdc['exerany'] == 1]['weight'].mean(), 3))\n",
    "print('Weight standard deviation (exercising individual):', round(cdc[cdc['exerany'] == 1]['weight'].std(), 3))\n",
    "print('Weight median (exercising individual):', round(cdc[cdc['exerany'] == 1]['weight'].median(), 3))"
   ]
  },
  {
   "cell_type": "markdown",
   "metadata": {},
   "source": [
    "**Exercise 7:** Create a histogram of `weight` from the data examined in Exercise 5 and 6 on the same plot. Ensuring that your plot has an appropriate title, axis labels and legend. Does this histogram support your answer in question 6? Also comment of the shape of the distribution.\n",
    "\n",
    "**Hint:** The `alpha` argument of plotting can be used to change the level of transparacy."
   ]
  },
  {
   "cell_type": "code",
   "execution_count": 62,
   "metadata": {},
   "outputs": [
    {
     "ename": "NameError",
     "evalue": "name 'plt' is not defined",
     "output_type": "error",
     "traceback": [
      "\u001b[0;31m---------------------------------------------------------------------------\u001b[0m",
      "\u001b[0;31mNameError\u001b[0m                                 Traceback (most recent call last)",
      "Cell \u001b[0;32mIn[62], line 1\u001b[0m\n\u001b[0;32m----> 1\u001b[0m \u001b[43mplt\u001b[49m\u001b[38;5;241m.\u001b[39mhist(cdc[\u001b[38;5;124m'\u001b[39m\u001b[38;5;124mweight\u001b[39m\u001b[38;5;124m'\u001b[39m], label \u001b[38;5;241m=\u001b[39m \u001b[38;5;124m'\u001b[39m\u001b[38;5;124mFull data\u001b[39m\u001b[38;5;124m'\u001b[39m)\n\u001b[1;32m      2\u001b[0m plt\u001b[38;5;241m.\u001b[39mhist(cdc[cdc[\u001b[38;5;124m'\u001b[39m\u001b[38;5;124mexerany\u001b[39m\u001b[38;5;124m'\u001b[39m] \u001b[38;5;241m==\u001b[39m \u001b[38;5;241m1\u001b[39m][\u001b[38;5;124m'\u001b[39m\u001b[38;5;124mweight\u001b[39m\u001b[38;5;124m'\u001b[39m], label \u001b[38;5;241m=\u001b[39m\u001b[38;5;124m'\u001b[39m\u001b[38;5;124mexerany=1\u001b[39m\u001b[38;5;124m'\u001b[39m, alpha \u001b[38;5;241m=\u001b[39m \u001b[38;5;241m0.8\u001b[39m)\n\u001b[1;32m      4\u001b[0m plt\u001b[38;5;241m.\u001b[39mtitle(\u001b[38;5;124m'\u001b[39m\u001b[38;5;124mHistogram of Weight of the full data and participants whom exercise\u001b[39m\u001b[38;5;124m'\u001b[39m)\n",
      "\u001b[0;31mNameError\u001b[0m: name 'plt' is not defined"
     ]
    }
   ],
   "source": [
    "plt.hist(cdc['weight'], label = 'Full data')\n",
    "plt.hist(cdc[cdc['exerany'] == 1]['weight'], label ='exerany=1', alpha = 0.8)\n",
    "\n",
    "plt.title('Histogram of Weight of the full data and participants whom exercise')\n",
    "plt.xlabel('Weight')\n",
    "plt.ylabel('Frequency')\n",
    "plt.legend()\n",
    "plt.show()"
   ]
  },
  {
   "cell_type": "markdown",
   "metadata": {},
   "source": [
    "**Exercise 8:** Continuing our investigation into the `weight` variable compute the: \n",
    "\n",
    "- 5-number summary in ascending order (that is, min, Q1, Q2 (median), Q3, and max). \n",
    "- interquartile range (IQR) for this variable (which is Q3-Q1). \n",
    "- max upper whisker reach and max lower whisker reach. Based on these values, how many outliers are there for `weight`? \n",
    "\n",
    "Finally, using Matplotlib, create a boxplot for this variable.\n",
    "\n",
    "**Hint:** For quantiles, you can use `np.quantile()`."
   ]
  },
  {
   "cell_type": "code",
   "execution_count": 106,
   "metadata": {},
   "outputs": [
    {
     "name": "stdout",
     "output_type": "stream",
     "text": [
      "Summary:\n",
      " - Minimum:  104\n",
      " - Q1:  143.75\n",
      " - Median:  165.0\n",
      " - Q3:  192.75\n",
      " - Maximum:  400\n",
      "\n",
      " IQR:  49.0\n",
      "\n",
      "Estimated outliers:\n",
      " - Max upper whisker reach:  266.25\n",
      " - Max lower whisker reach:  70.25\n",
      " - Estimated count:  3\n"
     ]
    }
   ],
   "source": [
    "print('Summary:')\n",
    "print(' - Minimum: ', cdc['weight'].min())\n",
    "print(' - Q1: ', cdc['weight'].quantile(0.25))\n",
    "print(' - Median: ', cdc['weight'].quantile(0.5))\n",
    "print(' - Q3: ', cdc['weight'].quantile(0.75))\n",
    "print(' - Maximum: ', cdc['weight'].max())\n",
    "\n",
    "iqr = cdc['weight'].quantile(0.75) - cdc['weight'].quantile(0.25)\n",
    "print('\\n IQR: ', iqr)\n",
    "\n",
    "print('\\nEstimated outliers:')\n",
    "\n",
    "max_whisker = cdc['weight'].quantile(0.75) + 1.5*iqr\n",
    "min_whisker = cdc['weight'].quantile(0.25) - 1.5*iqr\n",
    "print(' - Max upper whisker reach: ', max_whisker)\n",
    "print(' - Max lower whisker reach: ', min_whisker)\n",
    "\n",
    "wt_outliers = cdc[(cdc['weight'] > max_whisker) |\n",
    "               (cdc['weight'] < min_whisker)]['weight']\n",
    "\n",
    "\n",
    "print(' - Estimated count: ', wt_outliers.shape[0])"
   ]
  },
  {
   "cell_type": "markdown",
   "metadata": {},
   "source": [
    "**Exercise 9:** Similarly for the `wtdesire` compute the 5 number summary. Produce a boxplot of both `wtdesire` and `weight`.\n",
    "\n",
    "Then compare it with the results from Exercise 8 and comment on the boxplot. "
   ]
  },
  {
   "cell_type": "code",
   "execution_count": 107,
   "metadata": {},
   "outputs": [
    {
     "name": "stdout",
     "output_type": "stream",
     "text": [
      "min: 104\n",
      "q1: 135.0\n",
      "q2 (median): 150.0\n",
      "q3: 176.25\n",
      "max: 225\n"
     ]
    }
   ],
   "source": [
    "min_val = cdc['wtdesire'].min()\n",
    "q1_val  = cdc['wtdesire'].quantile(0.25)\n",
    "q2_val  = cdc['wtdesire'].quantile(0.50)  # this is also the median\n",
    "q3_val  = cdc['wtdesire'].quantile(0.75)\n",
    "max_val = cdc['wtdesire'].max()\n",
    "\n",
    "print('min:', min_val)\n",
    "print('q1:', q1_val)\n",
    "print('q2 (median):', q2_val)\n",
    "print('q3:', q3_val)\n",
    "print('max:', max_val)"
   ]
  },
  {
   "cell_type": "code",
   "execution_count": 108,
   "metadata": {},
   "outputs": [
    {
     "ename": "NameError",
     "evalue": "name 'plt' is not defined",
     "output_type": "error",
     "traceback": [
      "\u001b[0;31m---------------------------------------------------------------------------\u001b[0m",
      "\u001b[0;31mNameError\u001b[0m                                 Traceback (most recent call last)",
      "Cell \u001b[0;32mIn[108], line 1\u001b[0m\n\u001b[0;32m----> 1\u001b[0m \u001b[43mplt\u001b[49m\u001b[38;5;241m.\u001b[39mboxplot(x\u001b[38;5;241m=\u001b[39m[cdc[\u001b[38;5;124m'\u001b[39m\u001b[38;5;124mwtdesire\u001b[39m\u001b[38;5;124m'\u001b[39m], cdc[\u001b[38;5;124m'\u001b[39m\u001b[38;5;124mweight\u001b[39m\u001b[38;5;124m'\u001b[39m]])\n\u001b[1;32m      2\u001b[0m plt\u001b[38;5;241m.\u001b[39mtitle(\u001b[38;5;124m\"\u001b[39m\u001b[38;5;124mBoxplot of wtdesire and weight\u001b[39m\u001b[38;5;124m\"\u001b[39m)\n\u001b[1;32m      3\u001b[0m plt\u001b[38;5;241m.\u001b[39mxticks([\u001b[38;5;241m1\u001b[39m,\u001b[38;5;241m2\u001b[39m],[\u001b[38;5;124m'\u001b[39m\u001b[38;5;124mwtdesire\u001b[39m\u001b[38;5;124m'\u001b[39m, \u001b[38;5;124m'\u001b[39m\u001b[38;5;124mweight\u001b[39m\u001b[38;5;124m'\u001b[39m])\n",
      "\u001b[0;31mNameError\u001b[0m: name 'plt' is not defined"
     ]
    }
   ],
   "source": [
    "plt.boxplot(x=[cdc['wtdesire'], cdc['weight']])\n",
    "plt.title(\"Boxplot of wtdesire and weight\")\n",
    "plt.xticks([1,2],['wtdesire', 'weight'])\n",
    "plt.show();"
   ]
  },
  {
   "cell_type": "markdown",
   "metadata": {},
   "source": [
    "**Exercise 10:** Create a new data subset called `under25_and_overweight` that contains all respondents under the age of 25 who think their actual weights are over their desired weights. \n",
    "\n",
    "How many rows are there in this dataset? \n",
    "\n",
    "What percent of respondents under the age 25 think that they are overweight?\n"
   ]
  },
  {
   "cell_type": "code",
   "execution_count": 117,
   "metadata": {},
   "outputs": [
    {
     "name": "stdout",
     "output_type": "stream",
     "text": [
      "Rows:  4\n",
      "Percentage:  57.143 %\n"
     ]
    }
   ],
   "source": [
    "under25_and_overweight = cdc[(cdc['age'] < 25) & (cdc['weight'] > cdc['wtdesire'])]\n",
    "under25 = cdc[cdc['age'] < 25]\n",
    "print('Rows: ', under25_and_overweight.shape[0])\n",
    "print('Percentage: ', round(under25_and_overweight.shape[0] / under25.shape[0] * 100, 3), '%')"
   ]
  },
  {
   "cell_type": "markdown",
   "metadata": {},
   "source": [
    "**Exercise 11:** Let's consider a new variable: the difference between desired weight (`wtdesire`) and current weight (`weight`). Create this new variable by subtracting the two columns in the cdc data frame and assigning them to a new variable called `wdiff`."
   ]
  },
  {
   "cell_type": "code",
   "execution_count": 119,
   "metadata": {},
   "outputs": [],
   "source": [
    "cdc['wdiff'] = (cdc['wtdesire']) - (cdc['weight'])"
   ]
  },
  {
   "cell_type": "markdown",
   "metadata": {},
   "source": [
    "**Exercise 12:** What percent of respondents' `wdiff` is zero? Comment on the result."
   ]
  },
  {
   "cell_type": "code",
   "execution_count": 127,
   "metadata": {},
   "outputs": [
    {
     "name": "stdout",
     "output_type": "stream",
     "text": [
      "30.0 % of respondents are happy with their weight.\n"
     ]
    }
   ],
   "source": [
    "print(round((cdc['wdiff'][cdc['wdiff'] == 0]).shape[0] / cdc.shape[0] * 100, 2), '% of respondents are happy with their weight.')"
   ]
  },
  {
   "cell_type": "markdown",
   "metadata": {},
   "source": [
    "**Exercise 13:** What percent of respondents think they are overweight, that is, their `wdiff` value is less than 0? What percent of respondents think they are underweight?"
   ]
  },
  {
   "cell_type": "code",
   "execution_count": 128,
   "metadata": {},
   "outputs": [
    {
     "name": "stdout",
     "output_type": "stream",
     "text": [
      "5.0 % of respondents think they are underweight.\n",
      "65.0 % of respondents think they are overweight.\n"
     ]
    }
   ],
   "source": [
    "print(round((cdc['wdiff'][cdc['wdiff'] > 0]).shape[0] / cdc.shape[0] * 100, 2), \n",
    "      '% of respondents think they are underweight.')\n",
    "print(round((cdc['wdiff'][cdc['wdiff'] < 0]).shape[0] / cdc.shape[0] * 100, 2), \n",
    "      '% of respondents think they are overweight.')"
   ]
  },
  {
   "cell_type": "markdown",
   "metadata": {},
   "source": [
    "**Exercise 14:** Make a scatterplot of weight versus desired weight. Set the fill color as blue and alpha level as 0.3. Describe the relationship between these two variables.\n",
    "\n",
    "**Bonus**: Also fit a red line with a slope of 1 and an intercept value of 0. See [this](https://www.featureranking.com/tutorials/python-tutorials/matplotlib/#Lines) for an example of a line fit. "
   ]
  },
  {
   "cell_type": "markdown",
   "metadata": {},
   "source": [
    "**Exercise 15:** Create a side-by-side boxplot to determine if men tend to view their weight differently than women.\n",
    "\n",
    "**Hint**: For this, you will need to use the [Seaborn module](https://www.featureranking.com/tutorials/python-tutorials/seaborn/#Boxplots)."
   ]
  },
  {
   "cell_type": "markdown",
   "metadata": {},
   "source": [
    "***\n",
    "www.featureranking.com"
   ]
  }
 ],
 "metadata": {
  "hide_input": false,
  "kernelspec": {
   "display_name": "Python 3 (ipykernel)",
   "language": "python",
   "name": "python3"
  },
  "language_info": {
   "codemirror_mode": {
    "name": "ipython",
    "version": 3
   },
   "file_extension": ".py",
   "mimetype": "text/x-python",
   "name": "python",
   "nbconvert_exporter": "python",
   "pygments_lexer": "ipython3",
   "version": "3.11.4"
  }
 },
 "nbformat": 4,
 "nbformat_minor": 2
}
